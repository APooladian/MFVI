{
 "cells": [
  {
   "cell_type": "code",
   "execution_count": 1,
   "id": "63c3e971",
   "metadata": {},
   "outputs": [],
   "source": [
    "import numpy as np\n",
    "import scipy.stats as stats\n",
    "from misc_utils import compute_T, gaussian_int\n",
    "from scipy.linalg import sqrtm, inv\n",
    "from scipy.optimize import minimize\n",
    "\n",
    "from mfvi_main import *\n",
    "from gaussian_utils import *\n",
    "import time\n",
    "\n",
    "import matplotlib.pyplot as plt\n",
    "\n",
    "np.random.seed(10)\n"
   ]
  },
  {
   "cell_type": "markdown",
   "id": "e738157d",
   "metadata": {},
   "source": [
    "## Step 0: Gaussian parameters\n",
    "\n",
    "Randomly generate the covariance distribution, and compute the optimal parameter $\\alpha^*$. We assume access to $V$ and $\\nabla V$"
   ]
  },
  {
   "cell_type": "code",
   "execution_count": 2,
   "id": "050f91df",
   "metadata": {},
   "outputs": [],
   "source": [
    "d=5\n",
    "mean = np.zeros(d)\n",
    "temp_ = np.random.randn(d,d)\n",
    "invcov = temp_ @ temp_.T\n",
    "alpha_opt = 1/np.sqrt(np.max(np.linalg.eigvalsh(invcov)))\n",
    "\n",
    "V = lambda x: V_Gaussian_highd(x, mean=mean, invcov=invcov)\n",
    "gradV = lambda x: gradV_Gaussian_highd(x, mean=mean, invcov=invcov)"
   ]
  },
  {
   "cell_type": "markdown",
   "id": "fff1a85f",
   "metadata": {},
   "source": [
    "Note that the *optimal* mean-field approximation in this case is known. Indeed, for $\\mathcal{N}(0,\\Sigma)$, the mean-field approximation (i.e., closest product measure) is a Gaussian with mean zero and diagonal covariance $\\Sigma_{\\text{MF}}$ given by\n",
    "\n",
    "$$ (\\Sigma_{\\text{MF}})_{ii} = 1/(\\Sigma^{-1})_{ii} $$"
   ]
  },
  {
   "cell_type": "code",
   "execution_count": 3,
   "id": "9c998374",
   "metadata": {},
   "outputs": [],
   "source": [
    "mf_approx = np.diag(np.diag(1/invcov))"
   ]
  },
  {
   "cell_type": "markdown",
   "id": "eb815990",
   "metadata": {},
   "source": [
    "## Step 1: Set up our MF-VI algorithm\n",
    "\n",
    "Define the mesh-size and truncation parameter of interest; these initialize the dictionary that will be used for all components."
   ]
  },
  {
   "cell_type": "code",
   "execution_count": 4,
   "id": "020940be",
   "metadata": {},
   "outputs": [],
   "source": [
    "mesh=0.2\n",
    "trunc=2.9\n",
    "\n",
    "MFVI_obj = MFVI(V, gradV, mesh, trunc,d)"
   ]
  },
  {
   "cell_type": "markdown",
   "id": "8863df90",
   "metadata": {},
   "source": [
    "## Step 2: Run the algorithm \n",
    "\n",
    "Many parameters for our algorithm have default values, though the $\\alpha$ parameter, as well as the step-size (for both $\\lambda$ and $v$) are required, as is the initialization of the weights (the translation parameter $v$ is always initialized at the origin). Since we know the mean is zero, we set the step-size of $v$ to be zero.\n",
    "\n",
    "We loop through different choices of $\\alpha$, and track the Bures-Wasserstein distance between a computed sample covariance matrix and $\\Sigma_{\\text{MF}}$ at each iteration"
   ]
  },
  {
   "cell_type": "code",
   "execution_count": 5,
   "id": "b7f22c4c",
   "metadata": {},
   "outputs": [
    {
     "name": "stdout",
     "output_type": "stream",
     "text": [
      "Iter: 50\n",
      "Iter: 100\n",
      "Iter: 150\n",
      "Iter: 200\n",
      "Iter: 250\n",
      "Iter: 300\n",
      "Iter: 350\n",
      "Iter: 400\n",
      "Iter: 450\n",
      "Iter: 500\n",
      "Iter: 550\n",
      "Iter: 600\n",
      "Iter: 650\n",
      "Iter: 700\n",
      "Iter: 750\n",
      "Iter: 800\n",
      "Iter: 850\n",
      "Iter: 900\n",
      "Iter: 950\n",
      "Iter: 1000\n",
      "Iter: 1050\n",
      "Iter: 1100\n",
      "Iter: 1150\n",
      "Iter: 1200\n",
      "Iter: 1250\n",
      "Iter: 1300\n",
      "Iter: 1350\n",
      "Iter: 1400\n",
      "Iter: 1450\n",
      "Iter: 1500\n",
      "Iter: 1550\n",
      "Iter: 1600\n",
      "Iter: 1650\n",
      "Iter: 1700\n",
      "Iter: 1750\n",
      "Iter: 1800\n",
      "Iter: 1850\n",
      "Iter: 1900\n",
      "Iter: 1950\n",
      "Iter: 50\n",
      "Iter: 100\n",
      "Iter: 150\n",
      "Iter: 200\n",
      "Iter: 250\n",
      "Iter: 300\n",
      "Iter: 350\n",
      "Iter: 400\n",
      "Iter: 450\n",
      "Iter: 500\n",
      "Iter: 550\n",
      "Iter: 600\n",
      "Iter: 650\n",
      "Iter: 700\n",
      "Iter: 750\n",
      "Iter: 800\n",
      "Iter: 850\n",
      "Iter: 900\n",
      "Iter: 950\n",
      "Iter: 1000\n",
      "Iter: 1050\n",
      "Iter: 1100\n",
      "Iter: 1150\n",
      "Iter: 1200\n",
      "Iter: 1250\n",
      "Iter: 1300\n",
      "Iter: 1350\n",
      "Iter: 1400\n",
      "Iter: 1450\n",
      "Iter: 1500\n",
      "Iter: 1550\n",
      "Iter: 1600\n",
      "Iter: 1650\n",
      "Iter: 1700\n",
      "Iter: 1750\n",
      "Iter: 1800\n",
      "Iter: 1850\n",
      "Iter: 1900\n",
      "Iter: 1950\n",
      "Iter: 50\n",
      "Iter: 100\n",
      "Iter: 150\n",
      "Iter: 200\n",
      "Iter: 250\n",
      "Iter: 300\n",
      "Iter: 350\n",
      "Iter: 400\n",
      "Iter: 450\n",
      "Iter: 500\n",
      "Iter: 550\n",
      "Iter: 600\n",
      "Iter: 650\n",
      "Iter: 700\n",
      "Iter: 750\n",
      "Iter: 800\n",
      "Iter: 850\n",
      "Iter: 900\n",
      "Iter: 950\n",
      "Iter: 1000\n",
      "Iter: 1050\n",
      "Iter: 1100\n",
      "Iter: 1150\n",
      "Iter: 1200\n",
      "Iter: 1250\n",
      "Iter: 1300\n",
      "Iter: 1350\n",
      "Iter: 1400\n",
      "Iter: 1450\n",
      "Iter: 1500\n",
      "Iter: 1550\n",
      "Iter: 1600\n",
      "Iter: 1650\n",
      "Iter: 1700\n",
      "Iter: 1750\n",
      "Iter: 1800\n",
      "Iter: 1850\n",
      "Iter: 1900\n",
      "Iter: 1950\n"
     ]
    }
   ],
   "source": [
    "h = 1e-4\n",
    "h_v = 0\n",
    "iters = 2000\n",
    "tol = 0.0001\n",
    "batch_size = 2000\n",
    "\n",
    "W2_vals_alpha_sweep = []\n",
    "for alpha in [alpha_opt, alpha_opt/10, alpha_opt/50]:\n",
    "\n",
    "    MFVI_obj.SPGD(alpha_opt, h, h_v, np.ones((d,MFVI_obj.J)),\n",
    "              batch_size=batch_size,num_iters=iters,compute_W2=True,\n",
    "              ground_cov=mf_approx)  \n",
    "    \n",
    "    W2_vals_alpha_sweep.append(MFVI_obj.W2_vals)\n",
    "    "
   ]
  },
  {
   "cell_type": "markdown",
   "id": "f7363995",
   "metadata": {},
   "source": [
    "## Visualize convergence \n"
   ]
  },
  {
   "cell_type": "code",
   "execution_count": 6,
   "id": "8f32079a",
   "metadata": {},
   "outputs": [
    {
     "data": {
      "image/png": "[encoded data removed]",
      "text/plain": [
       "<Figure size 640x480 with 1 Axes>"
      ]
     },
     "metadata": {},
     "output_type": "display_data"
    }
   ],
   "source": [
    "plt.rcParams['font.family'] = 'Times New Roman'\n",
    "plt.loglog(W2_vals_alpha_sweep[0],label=r'$\\alpha^*$',c='#377eb8',linewidth=2.,linestyle='solid')\n",
    "plt.loglog(W2_vals_alpha_sweep[1],label=r'$\\alpha^*/10$',c='#ff7f00',linewidth=1.5,linestyle='dashed')\n",
    "plt.loglog(W2_vals_alpha_sweep[2],label=r'$\\alpha^*/50$',c='#4daf4a',linewidth=2.5,linestyle='dashdot')\n",
    "plt.grid(color='grey', linestyle='-', linewidth=0.25, alpha=0.75)\n",
    "plt.xlabel('Iterations',fontsize='20')\n",
    "plt.ylabel('$W_2^2$ error', fontsize='20')\n",
    "plt.title(r'Sensitivity to $\\alpha$',fontsize='20')\n",
    "plt.legend(fontsize='20', loc='lower left')\n",
    "plt.show()"
   ]
  },
  {
   "cell_type": "code",
   "execution_count": null,
   "id": "41bd77a7",
   "metadata": {},
   "outputs": [],
   "source": []
  }
 ],
 "metadata": {
  "kernelspec": {
   "display_name": "Python 3 (ipykernel)",
   "language": "python",
   "name": "python3"
  },
  "language_info": {
   "codemirror_mode": {
    "name": "ipython",
    "version": 3
   },
   "file_extension": ".py",
   "mimetype": "text/x-python",
   "name": "python",
   "nbconvert_exporter": "python",
   "pygments_lexer": "ipython3",
   "version": "3.11.6"
  }
 },
 "nbformat": 4,
 "nbformat_minor": 5
}
